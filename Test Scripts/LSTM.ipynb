{
  "cells": [
    {
      "cell_type": "code",
      "execution_count": null,
      "id": "72c490e7-0bdd-447c-8d66-eae1833e1c81",
      "metadata": {
        "id": "72c490e7-0bdd-447c-8d66-eae1833e1c81"
      },
      "outputs": [],
      "source": [
        "\n",
        "import pandas as pd\n",
        "import nltk\n",
        "from nltk.tokenize import word_tokenize\n",
        "from nltk.stem import WordNetLemmatizer\n",
        "from nltk.corpus import stopwords\n",
        "from sklearn.feature_extraction.text import TfidfVectorizer\n",
        "from sklearn.model_selection import train_test_split\n",
        "import tensorflow as tf\n",
        "from tensorflow.keras.models import Sequential\n",
        "from tensorflow import keras\n",
        "from tensorflow.keras.layers import Bidirectional,  Dense, Dropout , BatchNormalization\n",
        "from tensorflow.keras.utils import to_categorical\n",
        "from tensorflow.keras.regularizers import l2\n",
        "from tensorflow.keras.callbacks import EarlyStopping\n",
        "from tensorflow.keras.layers import Layer\n",
        "from sklearn.preprocessing import LabelEncoder\n",
        "import numpy as np\n",
        "import re\n",
        "from tensorflow.keras.models import load_model\n",
        "from sklearn.metrics import accuracy_score"
      ]
    },
    {
      "cell_type": "code",
      "execution_count": null,
      "id": "6c00c3a6-ff06-41a7-b28d-a98b508a0c47",
      "metadata": {
        "colab": {
          "base_uri": "https://localhost:8080/"
        },
        "id": "6c00c3a6-ff06-41a7-b28d-a98b508a0c47",
        "outputId": "12ce5c34-9f3b-471e-894c-aaca0176b15a"
      },
      "outputs": [
        {
          "output_type": "stream",
          "name": "stderr",
          "text": [
            "[nltk_data] Downloading package punkt_tab to /root/nltk_data...\n",
            "[nltk_data]   Package punkt_tab is already up-to-date!\n",
            "[nltk_data] Downloading package punkt to /root/nltk_data...\n",
            "[nltk_data]   Package punkt is already up-to-date!\n",
            "[nltk_data] Downloading package stopwords to /root/nltk_data...\n",
            "[nltk_data]   Package stopwords is already up-to-date!\n",
            "[nltk_data] Downloading package wordnet to /root/nltk_data...\n",
            "[nltk_data]   Package wordnet is already up-to-date!\n"
          ]
        },
        {
          "output_type": "execute_result",
          "data": {
            "text/plain": [
              "True"
            ]
          },
          "metadata": {},
          "execution_count": 13
        }
      ],
      "source": [
        "nltk.download('punkt_tab')\n",
        "nltk.download('punkt')\n",
        "nltk.download('stopwords')\n",
        "nltk.download('wordnet')"
      ]
    },
    {
      "cell_type": "code",
      "execution_count": null,
      "id": "6c502f96-5425-4059-8372-ad5a1e81d0f4",
      "metadata": {
        "id": "6c502f96-5425-4059-8372-ad5a1e81d0f4"
      },
      "outputs": [],
      "source": [
        "new_data = pd.read_csv(\"test.csv\")\n",
        "wordnet_lemmatizer = WordNetLemmatizer()\n",
        "stop_words = set(stopwords.words('english'))\n",
        "category_mapping = {'Politics': 0, 'Sports': 1, 'Media': 2, 'Market & Economy': 3, 'STEM': 4}\n",
        "def preprocess_text(text):\n",
        "    if not isinstance(text, str):\n",
        "        return \"\"\n",
        "\n",
        "    text = re.sub(r'http\\S+|www\\S+|@\\S+|#\\S+', '', text)\n",
        "    text = \"\".join([char for char in text if char.isalpha() or char.isspace()])\n",
        "\n",
        "\n",
        "    tokens = word_tokenize(text.lower())\n",
        "\n",
        "    tokens = [word for word in tokens if word not in stop_words]\n",
        "\n",
        "    tokens = [wordnet_lemmatizer.lemmatize(word) for word in tokens]\n",
        "    return \" \".join(tokens)\n",
        "new_data['Discussion'] = new_data['Discussion'].apply(preprocess_text)\n",
        "new_data = new_data.dropna()\n",
        "tfidf_vectorizer = TfidfVectorizer(max_features=5000)\n",
        "X = tfidf_vectorizer.fit_transform(new_data['Discussion']).toarray()"
      ]
    },
    {
      "cell_type": "code",
      "execution_count": 18,
      "id": "94a7aeb9-bb23-4ed4-b3dc-d81820d50ec4",
      "metadata": {
        "colab": {
          "base_uri": "https://localhost:8080/"
        },
        "id": "94a7aeb9-bb23-4ed4-b3dc-d81820d50ec4",
        "outputId": "f465d5dc-28c6-4568-d42b-f483360f6369"
      },
      "outputs": [
        {
          "output_type": "stream",
          "name": "stderr",
          "text": [
            "/usr/local/lib/python3.10/dist-packages/keras/src/layers/rnn/rnn.py:204: UserWarning: Do not pass an `input_shape`/`input_dim` argument to a layer. When using Sequential models, prefer using an `Input(shape)` object as the first layer in the model instead.\n",
            "  super().__init__(**kwargs)\n",
            "/usr/local/lib/python3.10/dist-packages/keras/src/optimizers/base_optimizer.py:33: UserWarning: Argument `decay` is no longer supported and will be ignored.\n",
            "  warnings.warn(\n",
            "WARNING:absl:Compiled the loaded model, but the compiled metrics have yet to be built. `model.compile_metrics` will be empty until you train or evaluate the model.\n",
            "WARNING:absl:Error in loading the saved optimizer state. As a result, your model is starting with a freshly initialized optimizer.\n"
          ]
        },
        {
          "output_type": "stream",
          "name": "stdout",
          "text": [
            "\u001b[1m330/330\u001b[0m \u001b[32m━━━━━━━━━━━━━━━━━━━━\u001b[0m\u001b[37m\u001b[0m \u001b[1m1s\u001b[0m 2ms/step\n",
            "Predictions saved to 'output.csv'\n"
          ]
        }
      ],
      "source": [
        "model = load_model('tfidf_lstm_model.h5')\n",
        "model.compile(optimizer='adam', loss='categorical_crossentropy', metrics=['accuracy'])\n",
        "\n",
        "new_data = pd.read_csv(\"test.csv\")\n",
        "\n",
        "new_data['Discussion'] = new_data['Discussion'].apply(preprocess_text)\n",
        "new_data = new_data.dropna()\n",
        "X_new = tfidf_vectorizer.transform(new_data['Discussion']).toarray()\n",
        "\n",
        "X_new = X_new.reshape(X_new.shape[0], 1, X_new.shape[1])\n",
        "\n",
        "predictions = model.predict(X_new)\n",
        "predicted_classes = np.argmax(predictions, axis=1)\n",
        "\n",
        "result = pd.DataFrame({\n",
        "    \"SampleID\": new_data[\"SampleID\"].values,\n",
        "    \"Category\": predicted_classes\n",
        "})\n",
        "\n",
        "result.head(5)\n",
        "result.to_csv('output.csv', index=False)\n",
        "\n",
        "print(\"Predictions saved to 'output.csv'\")"
      ]
    },
    {
      "cell_type": "code",
      "execution_count": null,
      "id": "06df0867-f8e9-4eed-975f-1c7ef83163e9",
      "metadata": {
        "id": "06df0867-f8e9-4eed-975f-1c7ef83163e9"
      },
      "outputs": [],
      "source": []
    }
  ],
  "metadata": {
    "accelerator": "GPU",
    "colab": {
      "gpuType": "T4",
      "provenance": []
    },
    "kernelspec": {
      "display_name": "Python 3 (ipykernel)",
      "language": "python",
      "name": "python3"
    },
    "language_info": {
      "codemirror_mode": {
        "name": "ipython",
        "version": 3
      },
      "file_extension": ".py",
      "mimetype": "text/x-python",
      "name": "python",
      "nbconvert_exporter": "python",
      "pygments_lexer": "ipython3",
      "version": "3.9.15"
    }
  },
  "nbformat": 4,
  "nbformat_minor": 5
}